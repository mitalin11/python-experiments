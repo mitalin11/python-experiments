{
 "cells": [
  {
   "cell_type": "raw",
   "metadata": {},
   "source": [
    "1. Linearity - The relationship between the independent and dependent variable should be linear. Can be generally found simply by making a scatter plot of the x and y variables. If it is not, then:- \n",
    "    a. apply transformation to the independent variable like taking a log, square root etc. to make it linear\n",
    "    b. adding a transformed variable that is a polynomial of x to the equation, eg. y = x + x^2\n",
    "    \n",
    "Linear relationship doesn't mean that x can't be of power that is not 1, it means that net relationship between x and y is linear. "
   ]
  },
  {
   "cell_type": "code",
   "execution_count": 3,
   "metadata": {},
   "outputs": [],
   "source": [
    "import math as m\n",
    "import random"
   ]
  },
  {
   "cell_type": "code",
   "execution_count": 11,
   "metadata": {},
   "outputs": [],
   "source": [
    "x = [random.randint(1, 15) for i in range(0, 15)] "
   ]
  },
  {
   "cell_type": "code",
   "execution_count": 12,
   "metadata": {},
   "outputs": [
    {
     "data": {
      "text/plain": [
       "[8, 11, 15, 2, 11, 7, 11, 2, 3, 7, 7, 1, 11, 10, 13]"
      ]
     },
     "execution_count": 12,
     "metadata": {},
     "output_type": "execute_result"
    }
   ],
   "source": [
    "x"
   ]
  },
  {
   "cell_type": "code",
   "execution_count": 15,
   "metadata": {},
   "outputs": [],
   "source": [
    "y = [i*i for i in x]"
   ]
  },
  {
   "cell_type": "code",
   "execution_count": 16,
   "metadata": {},
   "outputs": [
    {
     "data": {
      "text/plain": [
       "[64, 121, 225, 4, 121, 49, 121, 4, 9, 49, 49, 1, 121, 100, 169]"
      ]
     },
     "execution_count": 16,
     "metadata": {},
     "output_type": "execute_result"
    }
   ],
   "source": [
    "y"
   ]
  },
  {
   "cell_type": "code",
   "execution_count": 17,
   "metadata": {},
   "outputs": [],
   "source": [
    "import seaborn as sns"
   ]
  },
  {
   "cell_type": "code",
   "execution_count": 18,
   "metadata": {},
   "outputs": [
    {
     "data": {
      "text/plain": [
       "<matplotlib.axes._subplots.AxesSubplot at 0x1fedf5517f0>"
      ]
     },
     "execution_count": 18,
     "metadata": {},
     "output_type": "execute_result"
    },
    {
     "data": {
      "image/png": "[encoded data removed]",
      "text/plain": [
       "<matplotlib.figure.Figure at 0x1fedf5512e8>"
      ]
     },
     "metadata": {},
     "output_type": "display_data"
    }
   ],
   "source": [
    "sns.scatterplot(x,y)"
   ]
  },
  {
   "cell_type": "code",
   "execution_count": 19,
   "metadata": {},
   "outputs": [],
   "source": [
    "logy = [m.log(i) for i in x]"
   ]
  },
  {
   "cell_type": "code",
   "execution_count": 20,
   "metadata": {},
   "outputs": [
    {
     "data": {
      "text/plain": [
       "[2.0794415416798357,\n",
       " 2.3978952727983707,\n",
       " 2.70805020110221,\n",
       " 0.6931471805599453,\n",
       " 2.3978952727983707,\n",
       " 1.9459101490553132,\n",
       " 2.3978952727983707,\n",
       " 0.6931471805599453,\n",
       " 1.0986122886681098,\n",
       " 1.9459101490553132,\n",
       " 1.9459101490553132,\n",
       " 0.0,\n",
       " 2.3978952727983707,\n",
       " 2.302585092994046,\n",
       " 2.5649493574615367]"
      ]
     },
     "execution_count": 20,
     "metadata": {},
     "output_type": "execute_result"
    }
   ],
   "source": [
    "logy"
   ]
  },
  {
   "cell_type": "code",
   "execution_count": 21,
   "metadata": {},
   "outputs": [
    {
     "data": {
      "text/plain": [
       "<matplotlib.axes._subplots.AxesSubplot at 0x1fee1abbac8>"
      ]
     },
     "execution_count": 21,
     "metadata": {},
     "output_type": "execute_result"
    },
    {
     "data": {
      "image/png": "[encoded data removed]",
      "text/plain": [
       "<matplotlib.figure.Figure at 0x1fee1abbcf8>"
      ]
     },
     "metadata": {},
     "output_type": "display_data"
    }
   ],
   "source": [
    "sns.scatterplot(x,logy)"
   ]
  },
  {
   "cell_type": "code",
   "execution_count": 22,
   "metadata": {},
   "outputs": [
    {
     "data": {
      "text/plain": [
       "<matplotlib.axes._subplots.AxesSubplot at 0x1fee164f630>"
      ]
     },
     "execution_count": 22,
     "metadata": {},
     "output_type": "execute_result"
    },
    {
     "data": {
      "image/png": "[encoded data removed]",
      "text/plain": [
       "<matplotlib.figure.Figure at 0x1fee1aa5a90>"
      ]
     },
     "metadata": {},
     "output_type": "display_data"
    }
   ],
   "source": [
    "sns.scatterplot(x, [1/i for i in x])"
   ]
  },
  {
   "cell_type": "raw",
   "metadata": {},
   "source": [
    "Now this became more or less linear:"
   ]
  },
  {
   "cell_type": "code",
   "execution_count": 23,
   "metadata": {},
   "outputs": [
    {
     "data": {
      "text/plain": [
       "<matplotlib.axes._subplots.AxesSubplot at 0x1fee1818da0>"
      ]
     },
     "execution_count": 23,
     "metadata": {},
     "output_type": "execute_result"
    },
    {
     "data": {
      "image/png": "[encoded data removed]",
      "text/plain": [
       "<matplotlib.figure.Figure at 0x1fee164b5f8>"
      ]
     },
     "metadata": {},
     "output_type": "display_data"
    }
   ],
   "source": [
    "sns.scatterplot(x, [1/i + i*i for i in x])"
   ]
  },
  {
   "cell_type": "raw",
   "metadata": {},
   "source": [
    "2. Independence: To test this, make sure that the plot of the residuals v/s the fitted value is random - similarly if dealing\n",
    "    with time series data, the ACF plots for the residuals should be within the 95% ( or whatever the value is) confidence\n",
    "    limits"
   ]
  },
  {
   "cell_type": "raw",
   "metadata": {},
   "source": [
    "3. Homoscedasticity - The next assumption of linear regression is that the residuals have constant variance at every level of x. This is known as homoscedasticity.  When this is not the case, the residuals are said to suffer from heteroscedasticity.\n",
    "\n",
    "When heteroscedasticity is present in a regression analysis, the results of the analysis become hard to trust. \n",
    "Specifically, heteroscedasticity increases the variance of the regression coefficient estimates, \n",
    "but the regression model doesn’t pick up on this. This makes it much more likely for a \n",
    "regression model to declare that a term in the model is statistically significant, when in fact it is not."
   ]
  },
  {
   "cell_type": "raw",
   "metadata": {},
   "source": [
    "Solution: Either transform the dependent variable (log or some such) or modify it slightly - for example if \n",
    "    population v/s num of flower shops then obviously there will be lot of variance in num of flower shops. \n",
    "    So, take num of flower shops per capita instead so that variance will not vary as much"
   ]
  },
  {
   "cell_type": "raw",
   "metadata": {},
   "source": [
    "4. Normality: Residuals should be normal - check Q-Q plots. Should be a straight line"
   ]
  },
  {
   "cell_type": "code",
   "execution_count": null,
   "metadata": {},
   "outputs": [],
   "source": []
  }
 ],
 "metadata": {
  "kernelspec": {
   "display_name": "Python 3",
   "language": "python",
   "name": "python3"
  },
  "language_info": {
   "codemirror_mode": {
    "name": "ipython",
    "version": 3
   },
   "file_extension": ".py",
   "mimetype": "text/x-python",
   "name": "python",
   "nbconvert_exporter": "python",
   "pygments_lexer": "ipython3",
   "version": "3.6.4"
  }
 },
 "nbformat": 4,
 "nbformat_minor": 2
}
