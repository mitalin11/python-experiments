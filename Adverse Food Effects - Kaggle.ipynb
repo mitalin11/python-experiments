{
 "cells": [
  {
   "cell_type": "code",
   "execution_count": 1,
   "metadata": {},
   "outputs": [],
   "source": [
    "import pandas as pd"
   ]
  },
  {
   "cell_type": "code",
   "execution_count": 3,
   "metadata": {},
   "outputs": [
    {
     "data": {
      "text/html": [
       "<style>.container { width:100% !important; }</style>"
      ],
      "text/plain": [
       "<IPython.core.display.HTML object>"
      ]
     },
     "metadata": {},
     "output_type": "display_data"
    }
   ],
   "source": [
    "from IPython.core.display import display, HTML\n",
    "display(HTML(\"<style>.container { width:100% !important; }</style>\"))"
   ]
  },
  {
   "cell_type": "code",
   "execution_count": 4,
   "metadata": {},
   "outputs": [],
   "source": [
    "df = pd.read_csv(r'C:\\Users\\mital\\Desktop\\Python\\archive_extracted\\CAERS_ASCII_2004_2017Q2.csv')"
   ]
  },
  {
   "cell_type": "code",
   "execution_count": 5,
   "metadata": {},
   "outputs": [
    {
     "data": {
      "text/html": [
       "<div>\n",
       "<style scoped>\n",
       "    .dataframe tbody tr th:only-of-type {\n",
       "        vertical-align: middle;\n",
       "    }\n",
       "\n",
       "    .dataframe tbody tr th {\n",
       "        vertical-align: top;\n",
       "    }\n",
       "\n",
       "    .dataframe thead th {\n",
       "        text-align: right;\n",
       "    }\n",
       "</style>\n",
       "<table border=\"1\" class=\"dataframe\">\n",
       "  <thead>\n",
       "    <tr style=\"text-align: right;\">\n",
       "      <th></th>\n",
       "      <th>RA_Report #</th>\n",
       "      <th>RA_CAERS Created Date</th>\n",
       "      <th>AEC_Event Start Date</th>\n",
       "      <th>PRI_Product Role</th>\n",
       "      <th>PRI_Reported Brand/Product Name</th>\n",
       "      <th>PRI_FDA Industry Code</th>\n",
       "      <th>PRI_FDA Industry Name</th>\n",
       "      <th>CI_Age at Adverse Event</th>\n",
       "      <th>CI_Age Unit</th>\n",
       "      <th>CI_Gender</th>\n",
       "      <th>AEC_One Row Outcomes</th>\n",
       "      <th>SYM_One Row Coded Symptoms</th>\n",
       "    </tr>\n",
       "  </thead>\n",
       "  <tbody>\n",
       "    <tr>\n",
       "      <th>0</th>\n",
       "      <td>65325</td>\n",
       "      <td>1/1/2004</td>\n",
       "      <td>8/4/2003</td>\n",
       "      <td>Suspect</td>\n",
       "      <td>MIDWEST COUNTRY FAIR CHOCOLATE FLAVORED CHIPS</td>\n",
       "      <td>3</td>\n",
       "      <td>Bakery Prod/Dough/Mix/Icing</td>\n",
       "      <td>2.0</td>\n",
       "      <td>Year(s)</td>\n",
       "      <td>Female</td>\n",
       "      <td>VISITED AN ER, VISITED A HEALTH CARE PROVIDER,...</td>\n",
       "      <td>SWELLING FACE, RASH, WHEEZING, COUGH, HOSPITAL...</td>\n",
       "    </tr>\n",
       "    <tr>\n",
       "      <th>1</th>\n",
       "      <td>65325</td>\n",
       "      <td>1/1/2004</td>\n",
       "      <td>8/4/2003</td>\n",
       "      <td>Suspect</td>\n",
       "      <td>MIDWEST COUNTRY FAIR CHOCOLATE FLAVORED CHIPS</td>\n",
       "      <td>3</td>\n",
       "      <td>Bakery Prod/Dough/Mix/Icing</td>\n",
       "      <td>2.0</td>\n",
       "      <td>Year(s)</td>\n",
       "      <td>Female</td>\n",
       "      <td>VISITED AN ER, VISITED A HEALTH CARE PROVIDER,...</td>\n",
       "      <td>SWELLING FACE, WHEEZING, COUGH, RASH, HOSPITAL...</td>\n",
       "    </tr>\n",
       "    <tr>\n",
       "      <th>2</th>\n",
       "      <td>65333</td>\n",
       "      <td>1/1/2004</td>\n",
       "      <td>NaN</td>\n",
       "      <td>Suspect</td>\n",
       "      <td>KROGER CLASSIC CREAM-DE-MINT CANDY MINT CHIP I...</td>\n",
       "      <td>13</td>\n",
       "      <td>Ice Cream Prod</td>\n",
       "      <td>NaN</td>\n",
       "      <td>Not Available</td>\n",
       "      <td>Female</td>\n",
       "      <td>VISITED AN ER</td>\n",
       "      <td>NAUSEA, DYSGEUSIA, DIARRHOEA</td>\n",
       "    </tr>\n",
       "    <tr>\n",
       "      <th>3</th>\n",
       "      <td>65335</td>\n",
       "      <td>1/1/2004</td>\n",
       "      <td>11/24/2003</td>\n",
       "      <td>Suspect</td>\n",
       "      <td>ENFAMIL LIPIL BABY FORMULA</td>\n",
       "      <td>40</td>\n",
       "      <td>Baby Food Prod</td>\n",
       "      <td>3.0</td>\n",
       "      <td>Month(s)</td>\n",
       "      <td>Not Available</td>\n",
       "      <td>NON-SERIOUS INJURIES/ ILLNESS</td>\n",
       "      <td>GASTROINTESTINAL DISORDER, VOMITING</td>\n",
       "    </tr>\n",
       "    <tr>\n",
       "      <th>4</th>\n",
       "      <td>65336</td>\n",
       "      <td>1/1/2004</td>\n",
       "      <td>NaN</td>\n",
       "      <td>Suspect</td>\n",
       "      <td>ENFIMIL LIPIL BABY FORMULA</td>\n",
       "      <td>40</td>\n",
       "      <td>Baby Food Prod</td>\n",
       "      <td>NaN</td>\n",
       "      <td>Not Available</td>\n",
       "      <td>Not Available</td>\n",
       "      <td>VISITED A HEALTH CARE PROVIDER</td>\n",
       "      <td>GASTROINTESTINAL DISORDER, PHYSICAL EXAMINATION</td>\n",
       "    </tr>\n",
       "  </tbody>\n",
       "</table>\n",
       "</div>"
      ],
      "text/plain": [
       "   RA_Report # RA_CAERS Created Date AEC_Event Start Date PRI_Product Role  \\\n",
       "0        65325              1/1/2004             8/4/2003          Suspect   \n",
       "1        65325              1/1/2004             8/4/2003          Suspect   \n",
       "2        65333              1/1/2004                  NaN          Suspect   \n",
       "3        65335              1/1/2004           11/24/2003          Suspect   \n",
       "4        65336              1/1/2004                  NaN          Suspect   \n",
       "\n",
       "                     PRI_Reported Brand/Product Name  PRI_FDA Industry Code  \\\n",
       "0      MIDWEST COUNTRY FAIR CHOCOLATE FLAVORED CHIPS                      3   \n",
       "1      MIDWEST COUNTRY FAIR CHOCOLATE FLAVORED CHIPS                      3   \n",
       "2  KROGER CLASSIC CREAM-DE-MINT CANDY MINT CHIP I...                     13   \n",
       "3                         ENFAMIL LIPIL BABY FORMULA                     40   \n",
       "4                         ENFIMIL LIPIL BABY FORMULA                     40   \n",
       "\n",
       "         PRI_FDA Industry Name  CI_Age at Adverse Event    CI_Age Unit  \\\n",
       "0  Bakery Prod/Dough/Mix/Icing                      2.0        Year(s)   \n",
       "1  Bakery Prod/Dough/Mix/Icing                      2.0        Year(s)   \n",
       "2               Ice Cream Prod                      NaN  Not Available   \n",
       "3               Baby Food Prod                      3.0       Month(s)   \n",
       "4               Baby Food Prod                      NaN  Not Available   \n",
       "\n",
       "       CI_Gender                               AEC_One Row Outcomes  \\\n",
       "0         Female  VISITED AN ER, VISITED A HEALTH CARE PROVIDER,...   \n",
       "1         Female  VISITED AN ER, VISITED A HEALTH CARE PROVIDER,...   \n",
       "2         Female                                      VISITED AN ER   \n",
       "3  Not Available                      NON-SERIOUS INJURIES/ ILLNESS   \n",
       "4  Not Available                     VISITED A HEALTH CARE PROVIDER   \n",
       "\n",
       "                          SYM_One Row Coded Symptoms  \n",
       "0  SWELLING FACE, RASH, WHEEZING, COUGH, HOSPITAL...  \n",
       "1  SWELLING FACE, WHEEZING, COUGH, RASH, HOSPITAL...  \n",
       "2                       NAUSEA, DYSGEUSIA, DIARRHOEA  \n",
       "3                GASTROINTESTINAL DISORDER, VOMITING  \n",
       "4    GASTROINTESTINAL DISORDER, PHYSICAL EXAMINATION  "
      ]
     },
     "execution_count": 5,
     "metadata": {},
     "output_type": "execute_result"
    }
   ],
   "source": [
    "df.head()"
   ]
  },
  {
   "cell_type": "code",
   "execution_count": 6,
   "metadata": {},
   "outputs": [],
   "source": [
    "import seaborn as sns"
   ]
  },
  {
   "cell_type": "code",
   "execution_count": 7,
   "metadata": {},
   "outputs": [
    {
     "name": "stderr",
     "output_type": "stream",
     "text": [
      "c:\\users\\mital\\appdata\\local\\programs\\python\\python36\\lib\\site-packages\\scipy\\stats\\stats.py:1706: FutureWarning: Using a non-tuple sequence for multidimensional indexing is deprecated; use `arr[tuple(seq)]` instead of `arr[seq]`. In the future this will be interpreted as an array index, `arr[np.array(seq)]`, which will result either in an error or a different result.\n",
      "  return np.add.reduce(sorted[indexer] * weights, axis=axis) / sumval\n"
     ]
    },
    {
     "data": {
      "text/plain": [
       "<matplotlib.axes._subplots.AxesSubplot at 0x224723a3358>"
      ]
     },
     "execution_count": 7,
     "metadata": {},
     "output_type": "execute_result"
    },
    {
     "data": {
      "image/png": "[encoded data removed]",
      "text/plain": [
       "<matplotlib.figure.Figure at 0x2245f7a1710>"
      ]
     },
     "metadata": {},
     "output_type": "display_data"
    }
   ],
   "source": [
    "sns.barplot(x='CI_Gender', y='RA_Report #', data=df, estimator= lambda x: len(x))"
   ]
  },
  {
   "cell_type": "code",
   "execution_count": 8,
   "metadata": {},
   "outputs": [],
   "source": [
    "import matplotlib.pyplot as plt"
   ]
  },
  {
   "cell_type": "code",
   "execution_count": 9,
   "metadata": {},
   "outputs": [
    {
     "data": {
      "text/plain": [
       "['RA_Report #',\n",
       " 'RA_CAERS Created Date',\n",
       " 'AEC_Event Start Date',\n",
       " 'PRI_Product Role',\n",
       " 'PRI_Reported Brand/Product Name',\n",
       " 'PRI_FDA Industry Code',\n",
       " 'PRI_FDA Industry Name',\n",
       " 'CI_Age at Adverse Event',\n",
       " 'CI_Age Unit',\n",
       " 'CI_Gender',\n",
       " 'AEC_One Row Outcomes',\n",
       " 'SYM_One Row Coded Symptoms']"
      ]
     },
     "execution_count": 9,
     "metadata": {},
     "output_type": "execute_result"
    }
   ],
   "source": [
    "list(df.columns)"
   ]
  },
  {
   "cell_type": "code",
   "execution_count": 10,
   "metadata": {},
   "outputs": [],
   "source": [
    "import re"
   ]
  },
  {
   "cell_type": "code",
   "execution_count": 11,
   "metadata": {},
   "outputs": [],
   "source": [
    "df.columns = [re.sub('[#$%^&*@!]', '',x).strip().replace(\" \", \"_\").lower() for x in list(df.columns)]"
   ]
  },
  {
   "cell_type": "code",
   "execution_count": 12,
   "metadata": {},
   "outputs": [
    {
     "data": {
      "text/plain": [
       "Index(['ra_report', 'ra_caers_created_date', 'aec_event_start_date',\n",
       "       'pri_product_role', 'pri_reported_brand/product_name',\n",
       "       'pri_fda_industry_code', 'pri_fda_industry_name',\n",
       "       'ci_age_at_adverse_event', 'ci_age_unit', 'ci_gender',\n",
       "       'aec_one_row_outcomes', 'sym_one_row_coded_symptoms'],\n",
       "      dtype='object')"
      ]
     },
     "execution_count": 12,
     "metadata": {},
     "output_type": "execute_result"
    }
   ],
   "source": [
    "df.columns"
   ]
  },
  {
   "cell_type": "code",
   "execution_count": 13,
   "metadata": {},
   "outputs": [
    {
     "name": "stderr",
     "output_type": "stream",
     "text": [
      "c:\\users\\mital\\appdata\\local\\programs\\python\\python36\\lib\\site-packages\\scipy\\stats\\stats.py:1706: FutureWarning: Using a non-tuple sequence for multidimensional indexing is deprecated; use `arr[tuple(seq)]` instead of `arr[seq]`. In the future this will be interpreted as an array index, `arr[np.array(seq)]`, which will result either in an error or a different result.\n",
      "  return np.add.reduce(sorted[indexer] * weights, axis=axis) / sumval\n"
     ]
    },
    {
     "data": {
      "text/plain": [
       "[Text(0,0,'Bakery Prod/Dough/Mix/Icing'),\n",
       " Text(0,0,'Ice Cream Prod'),\n",
       " Text(0,0,'Baby Food Prod'),\n",
       " Text(0,0,'Snack Food Item'),\n",
       " Text(0,0,'Fruit/Fruit Prod'),\n",
       " Text(0,0,'Vit/Min/Prot/Unconv Diet(Human/Animal)'),\n",
       " Text(0,0,'Soft Drink/Water'),\n",
       " Text(0,0,'Cosmetics'),\n",
       " Text(0,0,'Milk/Butter/Dried Milk Prod'),\n",
       " Text(0,0,'Coffee/Tea'),\n",
       " Text(0,0,'Food Additives (Human Use)'),\n",
       " Text(0,0,'Gelatin/Rennet/Pudding Mix/Pie Filling'),\n",
       " Text(0,0,'Mult Food Dinner/Grav/Sauce/Special'),\n",
       " Text(0,0,'Cheese/Cheese Prod'),\n",
       " Text(0,0,'Macaroni/Noodle Prod'),\n",
       " Text(0,0,'Vegetables/Vegetable Products'),\n",
       " Text(0,0,'Cereal Prep/Breakfast Food'),\n",
       " Text(0,0,'Dietary Conv Food/Meal Replacements'),\n",
       " Text(0,0,'Choc/Cocoa Prod'),\n",
       " Text(0,0,'Nuts/Edible Seed'),\n",
       " Text(0,0,'Candy W/O Choc/Special/Chew Gum'),\n",
       " Text(0,0,'Fishery/Seafood Prod'),\n",
       " Text(0,0,'Dressing/Condiment'),\n",
       " Text(0,0,'Vegetable Oils'),\n",
       " Text(0,0,'Whole Grain/Milled Grain Prod/Starch'),\n",
       " Text(0,0,'Meat, Meat Products and Poultry'),\n",
       " Text(0,0,'Egg/Egg Prod'),\n",
       " Text(0,0,'Spices, Flavors And Salts'),\n",
       " Text(0,0,'Prep Salad Prod'),\n",
       " Text(0,0,'Soup'),\n",
       " Text(0,0,'Vegetable Protein Prod'),\n",
       " Text(0,0,'Filled Milk/Imit Milk Prod'),\n",
       " Text(0,0,'Food Sweeteners (Nutritive)'),\n",
       " Text(0,0,'Beverage Bases/Conc/Nectar'),\n",
       " Text(0,0,'Alcoholic Beverage'),\n",
       " Text(0,0,'Miscellaneous Food Related Items'),\n",
       " Text(0,0,'Food Service/Conveyance'),\n",
       " Text(0,0,'Multiple Food Warehouses'),\n",
       " Text(0,0,'Color Additiv Food/Drug/Cosmetic'),\n",
       " Text(0,0,'Not Available'),\n",
       " Text(0,0,'EDIBLE INSECTS AND INSECT-DERIVED FOODS')]"
      ]
     },
     "execution_count": 13,
     "metadata": {},
     "output_type": "execute_result"
    },
    {
     "data": {
      "image/png": "[encoded data removed]",
      "text/plain": [
       "<matplotlib.figure.Figure at 0x22472314630>"
      ]
     },
     "metadata": {},
     "output_type": "display_data"
    }
   ],
   "source": [
    "plt.figure(figsize=(20,8))\n",
    "ax = sns.barplot(x='pri_fda_industry_name', y='ra_report', data=df, estimator=lambda x: len(x))\n",
    "ax.set_xticklabels(ax.get_xticklabels(),rotation = 30, ha='right')"
   ]
  },
  {
   "cell_type": "code",
   "execution_count": 14,
   "metadata": {},
   "outputs": [
    {
     "data": {
      "text/plain": [
       "CHOKING                         1633\n",
       "DYSPHAGIA, CHOKING               488\n",
       "ALOPECIA                         391\n",
       "COELIAC DISEASE                  294\n",
       "CHOKING, DYSPHAGIA               253\n",
       "CONVULSION                       235\n",
       "BLOOD PRESSURE INCREASED         232\n",
       "FOREIGN BODY TRAUMA, CHOKING     178\n",
       "ALOPECIA, ALOPECIA               177\n",
       "CEREBROVASCULAR ACCIDENT         176\n",
       "Name: sym_one_row_coded_symptoms, dtype: int64"
      ]
     },
     "execution_count": 14,
     "metadata": {},
     "output_type": "execute_result"
    }
   ],
   "source": [
    "df[df.pri_fda_industry_name == 'Vit/Min/Prot/Unconv Diet(Human/Animal)']['sym_one_row_coded_symptoms'].value_counts()[0:10]"
   ]
  },
  {
   "cell_type": "markdown",
   "metadata": {},
   "source": [
    "### Cleaning the symptoms caused by consumption of Vitamins/Minerals:"
   ]
  },
  {
   "cell_type": "code",
   "execution_count": 15,
   "metadata": {},
   "outputs": [
    {
     "data": {
      "text/plain": [
       "'SWELLING FACE, RASH, WHEEZING, COUGH, HOSPITALISATION, DYSPNOEA'"
      ]
     },
     "execution_count": 15,
     "metadata": {},
     "output_type": "execute_result"
    }
   ],
   "source": [
    "df.loc[0, 'sym_one_row_coded_symptoms']"
   ]
  },
  {
   "cell_type": "code",
   "execution_count": 31,
   "metadata": {},
   "outputs": [
    {
     "data": {
      "text/plain": [
       "(90786, 12)"
      ]
     },
     "execution_count": 31,
     "metadata": {},
     "output_type": "execute_result"
    }
   ],
   "source": [
    "df.shape"
   ]
  },
  {
   "cell_type": "code",
   "execution_count": 17,
   "metadata": {},
   "outputs": [],
   "source": [
    "import ast"
   ]
  },
  {
   "cell_type": "code",
   "execution_count": 18,
   "metadata": {},
   "outputs": [
    {
     "data": {
      "text/plain": [
       "['CHOKING']"
      ]
     },
     "execution_count": 18,
     "metadata": {},
     "output_type": "execute_result"
    }
   ],
   "source": [
    "[x.strip() for x in 'CHOKING'.split(\",\")]"
   ]
  },
  {
   "cell_type": "code",
   "execution_count": 19,
   "metadata": {},
   "outputs": [],
   "source": [
    "def store_as_list(s):\n",
    "    l = [x.strip() for x in s.split(\",\")]\n",
    "    return l"
   ]
  },
  {
   "cell_type": "code",
   "execution_count": 33,
   "metadata": {},
   "outputs": [],
   "source": [
    "df_cln = df[~df.sym_one_row_coded_symptoms.isna()].reset_index(drop=True)"
   ]
  },
  {
   "cell_type": "code",
   "execution_count": 34,
   "metadata": {},
   "outputs": [
    {
     "data": {
      "text/plain": [
       "(90781, 12)"
      ]
     },
     "execution_count": 34,
     "metadata": {},
     "output_type": "execute_result"
    }
   ],
   "source": [
    "df_cln.shape"
   ]
  },
  {
   "cell_type": "code",
   "execution_count": 35,
   "metadata": {},
   "outputs": [],
   "source": [
    "df_cln['symptoms_list'] = df_cln.apply(lambda x: store_as_list(x['sym_one_row_coded_symptoms']),axis=1)"
   ]
  },
  {
   "cell_type": "code",
   "execution_count": 39,
   "metadata": {},
   "outputs": [],
   "source": [
    "df_expl = df_cln.explode('symptoms_list')"
   ]
  },
  {
   "cell_type": "code",
   "execution_count": 40,
   "metadata": {},
   "outputs": [
    {
     "data": {
      "text/html": [
       "<div>\n",
       "<style scoped>\n",
       "    .dataframe tbody tr th:only-of-type {\n",
       "        vertical-align: middle;\n",
       "    }\n",
       "\n",
       "    .dataframe tbody tr th {\n",
       "        vertical-align: top;\n",
       "    }\n",
       "\n",
       "    .dataframe thead th {\n",
       "        text-align: right;\n",
       "    }\n",
       "</style>\n",
       "<table border=\"1\" class=\"dataframe\">\n",
       "  <thead>\n",
       "    <tr style=\"text-align: right;\">\n",
       "      <th></th>\n",
       "      <th>ra_report</th>\n",
       "      <th>ra_caers_created_date</th>\n",
       "      <th>aec_event_start_date</th>\n",
       "      <th>pri_product_role</th>\n",
       "      <th>pri_reported_brand/product_name</th>\n",
       "      <th>pri_fda_industry_code</th>\n",
       "      <th>pri_fda_industry_name</th>\n",
       "      <th>ci_age_at_adverse_event</th>\n",
       "      <th>ci_age_unit</th>\n",
       "      <th>ci_gender</th>\n",
       "      <th>aec_one_row_outcomes</th>\n",
       "      <th>sym_one_row_coded_symptoms</th>\n",
       "      <th>symptoms_list</th>\n",
       "    </tr>\n",
       "  </thead>\n",
       "  <tbody>\n",
       "    <tr>\n",
       "      <th>0</th>\n",
       "      <td>65325</td>\n",
       "      <td>1/1/2004</td>\n",
       "      <td>8/4/2003</td>\n",
       "      <td>Suspect</td>\n",
       "      <td>MIDWEST COUNTRY FAIR CHOCOLATE FLAVORED CHIPS</td>\n",
       "      <td>3</td>\n",
       "      <td>Bakery Prod/Dough/Mix/Icing</td>\n",
       "      <td>2.0</td>\n",
       "      <td>Year(s)</td>\n",
       "      <td>Female</td>\n",
       "      <td>VISITED AN ER, VISITED A HEALTH CARE PROVIDER,...</td>\n",
       "      <td>SWELLING FACE, RASH, WHEEZING, COUGH, HOSPITAL...</td>\n",
       "      <td>SWELLING FACE</td>\n",
       "    </tr>\n",
       "    <tr>\n",
       "      <th>0</th>\n",
       "      <td>65325</td>\n",
       "      <td>1/1/2004</td>\n",
       "      <td>8/4/2003</td>\n",
       "      <td>Suspect</td>\n",
       "      <td>MIDWEST COUNTRY FAIR CHOCOLATE FLAVORED CHIPS</td>\n",
       "      <td>3</td>\n",
       "      <td>Bakery Prod/Dough/Mix/Icing</td>\n",
       "      <td>2.0</td>\n",
       "      <td>Year(s)</td>\n",
       "      <td>Female</td>\n",
       "      <td>VISITED AN ER, VISITED A HEALTH CARE PROVIDER,...</td>\n",
       "      <td>SWELLING FACE, RASH, WHEEZING, COUGH, HOSPITAL...</td>\n",
       "      <td>RASH</td>\n",
       "    </tr>\n",
       "    <tr>\n",
       "      <th>0</th>\n",
       "      <td>65325</td>\n",
       "      <td>1/1/2004</td>\n",
       "      <td>8/4/2003</td>\n",
       "      <td>Suspect</td>\n",
       "      <td>MIDWEST COUNTRY FAIR CHOCOLATE FLAVORED CHIPS</td>\n",
       "      <td>3</td>\n",
       "      <td>Bakery Prod/Dough/Mix/Icing</td>\n",
       "      <td>2.0</td>\n",
       "      <td>Year(s)</td>\n",
       "      <td>Female</td>\n",
       "      <td>VISITED AN ER, VISITED A HEALTH CARE PROVIDER,...</td>\n",
       "      <td>SWELLING FACE, RASH, WHEEZING, COUGH, HOSPITAL...</td>\n",
       "      <td>WHEEZING</td>\n",
       "    </tr>\n",
       "    <tr>\n",
       "      <th>0</th>\n",
       "      <td>65325</td>\n",
       "      <td>1/1/2004</td>\n",
       "      <td>8/4/2003</td>\n",
       "      <td>Suspect</td>\n",
       "      <td>MIDWEST COUNTRY FAIR CHOCOLATE FLAVORED CHIPS</td>\n",
       "      <td>3</td>\n",
       "      <td>Bakery Prod/Dough/Mix/Icing</td>\n",
       "      <td>2.0</td>\n",
       "      <td>Year(s)</td>\n",
       "      <td>Female</td>\n",
       "      <td>VISITED AN ER, VISITED A HEALTH CARE PROVIDER,...</td>\n",
       "      <td>SWELLING FACE, RASH, WHEEZING, COUGH, HOSPITAL...</td>\n",
       "      <td>COUGH</td>\n",
       "    </tr>\n",
       "    <tr>\n",
       "      <th>0</th>\n",
       "      <td>65325</td>\n",
       "      <td>1/1/2004</td>\n",
       "      <td>8/4/2003</td>\n",
       "      <td>Suspect</td>\n",
       "      <td>MIDWEST COUNTRY FAIR CHOCOLATE FLAVORED CHIPS</td>\n",
       "      <td>3</td>\n",
       "      <td>Bakery Prod/Dough/Mix/Icing</td>\n",
       "      <td>2.0</td>\n",
       "      <td>Year(s)</td>\n",
       "      <td>Female</td>\n",
       "      <td>VISITED AN ER, VISITED A HEALTH CARE PROVIDER,...</td>\n",
       "      <td>SWELLING FACE, RASH, WHEEZING, COUGH, HOSPITAL...</td>\n",
       "      <td>HOSPITALISATION</td>\n",
       "    </tr>\n",
       "  </tbody>\n",
       "</table>\n",
       "</div>"
      ],
      "text/plain": [
       "   ra_report ra_caers_created_date aec_event_start_date pri_product_role  \\\n",
       "0      65325              1/1/2004             8/4/2003          Suspect   \n",
       "0      65325              1/1/2004             8/4/2003          Suspect   \n",
       "0      65325              1/1/2004             8/4/2003          Suspect   \n",
       "0      65325              1/1/2004             8/4/2003          Suspect   \n",
       "0      65325              1/1/2004             8/4/2003          Suspect   \n",
       "\n",
       "                 pri_reported_brand/product_name  pri_fda_industry_code  \\\n",
       "0  MIDWEST COUNTRY FAIR CHOCOLATE FLAVORED CHIPS                      3   \n",
       "0  MIDWEST COUNTRY FAIR CHOCOLATE FLAVORED CHIPS                      3   \n",
       "0  MIDWEST COUNTRY FAIR CHOCOLATE FLAVORED CHIPS                      3   \n",
       "0  MIDWEST COUNTRY FAIR CHOCOLATE FLAVORED CHIPS                      3   \n",
       "0  MIDWEST COUNTRY FAIR CHOCOLATE FLAVORED CHIPS                      3   \n",
       "\n",
       "         pri_fda_industry_name  ci_age_at_adverse_event ci_age_unit ci_gender  \\\n",
       "0  Bakery Prod/Dough/Mix/Icing                      2.0     Year(s)    Female   \n",
       "0  Bakery Prod/Dough/Mix/Icing                      2.0     Year(s)    Female   \n",
       "0  Bakery Prod/Dough/Mix/Icing                      2.0     Year(s)    Female   \n",
       "0  Bakery Prod/Dough/Mix/Icing                      2.0     Year(s)    Female   \n",
       "0  Bakery Prod/Dough/Mix/Icing                      2.0     Year(s)    Female   \n",
       "\n",
       "                                aec_one_row_outcomes  \\\n",
       "0  VISITED AN ER, VISITED A HEALTH CARE PROVIDER,...   \n",
       "0  VISITED AN ER, VISITED A HEALTH CARE PROVIDER,...   \n",
       "0  VISITED AN ER, VISITED A HEALTH CARE PROVIDER,...   \n",
       "0  VISITED AN ER, VISITED A HEALTH CARE PROVIDER,...   \n",
       "0  VISITED AN ER, VISITED A HEALTH CARE PROVIDER,...   \n",
       "\n",
       "                          sym_one_row_coded_symptoms    symptoms_list  \n",
       "0  SWELLING FACE, RASH, WHEEZING, COUGH, HOSPITAL...    SWELLING FACE  \n",
       "0  SWELLING FACE, RASH, WHEEZING, COUGH, HOSPITAL...             RASH  \n",
       "0  SWELLING FACE, RASH, WHEEZING, COUGH, HOSPITAL...         WHEEZING  \n",
       "0  SWELLING FACE, RASH, WHEEZING, COUGH, HOSPITAL...            COUGH  \n",
       "0  SWELLING FACE, RASH, WHEEZING, COUGH, HOSPITAL...  HOSPITALISATION  "
      ]
     },
     "execution_count": 40,
     "metadata": {},
     "output_type": "execute_result"
    }
   ],
   "source": [
    "df_expl.head()"
   ]
  },
  {
   "cell_type": "code",
   "execution_count": 42,
   "metadata": {},
   "outputs": [
    {
     "data": {
      "text/plain": [
       "(325942, 13)"
      ]
     },
     "execution_count": 42,
     "metadata": {},
     "output_type": "execute_result"
    }
   ],
   "source": [
    "df_expl.shape"
   ]
  },
  {
   "cell_type": "code",
   "execution_count": 46,
   "metadata": {},
   "outputs": [],
   "source": [
    "sel = df_expl[['ra_report', 'ra_caers_created_date', 'aec_event_start_date',\n",
    "       'pri_product_role', 'pri_reported_brand/product_name',\n",
    "       'pri_fda_industry_code', 'pri_fda_industry_name',\n",
    "       'ci_age_at_adverse_event', 'ci_gender',\n",
    "       'aec_one_row_outcomes', 'symptoms_list']]"
   ]
  },
  {
   "cell_type": "code",
   "execution_count": 73,
   "metadata": {},
   "outputs": [],
   "source": [
    "only_vit = sel[sel.pri_fda_industry_name == 'Vit/Min/Prot/Unconv Diet(Human/Animal)']"
   ]
  },
  {
   "cell_type": "code",
   "execution_count": 74,
   "metadata": {},
   "outputs": [
    {
     "data": {
      "text/plain": [
       "(196431, 11)"
      ]
     },
     "execution_count": 74,
     "metadata": {},
     "output_type": "execute_result"
    }
   ],
   "source": [
    "only_vit.shape"
   ]
  },
  {
   "cell_type": "code",
   "execution_count": 78,
   "metadata": {},
   "outputs": [
    {
     "name": "stderr",
     "output_type": "stream",
     "text": [
      "c:\\users\\mital\\appdata\\local\\programs\\python\\python36\\lib\\site-packages\\ipykernel_launcher.py:1: SettingWithCopyWarning: \n",
      "A value is trying to be set on a copy of a slice from a DataFrame.\n",
      "Try using .loc[row_indexer,col_indexer] = value instead\n",
      "\n",
      "See the caveats in the documentation: https://pandas.pydata.org/pandas-docs/stable/user_guide/indexing.html#returning-a-view-versus-a-copy\n",
      "  \"\"\"Entry point for launching an IPython kernel.\n"
     ]
    }
   ],
   "source": [
    "only_vit['outcomes_list'] = only_vit.apply(lambda x: store_as_list(x['aec_one_row_outcomes']),axis=1)"
   ]
  },
  {
   "cell_type": "code",
   "execution_count": 79,
   "metadata": {},
   "outputs": [
    {
     "data": {
      "text/plain": [
       "CHOKING                                  5587\n",
       "NAUSEA                                   4411\n",
       "DYSPNOEA                                 4411\n",
       "VOMITING                                 3981\n",
       "DIARRHOEA                                3529\n",
       "                                         ... \n",
       "GONADAL DYSGENESIS                          1\n",
       "CHORIORETINOPATHY                           1\n",
       "MUCOUS MEMBRANE DISORDER                    1\n",
       "IRON BINDING CAPACITY TOTAL INCREASED       1\n",
       "GENITAL INFECTION BACTERIAL                 1\n",
       "Name: symptoms_list, Length: 3622, dtype: int64"
      ]
     },
     "execution_count": 79,
     "metadata": {},
     "output_type": "execute_result"
    }
   ],
   "source": [
    "only_vit.symptoms_list.value_counts()"
   ]
  },
  {
   "cell_type": "code",
   "execution_count": 80,
   "metadata": {},
   "outputs": [],
   "source": [
    "outcome_expl = only_vit.explode('outcomes_list')"
   ]
  },
  {
   "cell_type": "code",
   "execution_count": 81,
   "metadata": {},
   "outputs": [
    {
     "data": {
      "text/plain": [
       "(346754, 12)"
      ]
     },
     "execution_count": 81,
     "metadata": {},
     "output_type": "execute_result"
    }
   ],
   "source": [
    "outcome_expl.shape"
   ]
  },
  {
   "cell_type": "code",
   "execution_count": 82,
   "metadata": {},
   "outputs": [
    {
     "data": {
      "text/html": [
       "<div>\n",
       "<style scoped>\n",
       "    .dataframe tbody tr th:only-of-type {\n",
       "        vertical-align: middle;\n",
       "    }\n",
       "\n",
       "    .dataframe tbody tr th {\n",
       "        vertical-align: top;\n",
       "    }\n",
       "\n",
       "    .dataframe thead th {\n",
       "        text-align: right;\n",
       "    }\n",
       "</style>\n",
       "<table border=\"1\" class=\"dataframe\">\n",
       "  <thead>\n",
       "    <tr style=\"text-align: right;\">\n",
       "      <th></th>\n",
       "      <th>ra_report</th>\n",
       "      <th>ra_caers_created_date</th>\n",
       "      <th>aec_event_start_date</th>\n",
       "      <th>pri_product_role</th>\n",
       "      <th>pri_reported_brand/product_name</th>\n",
       "      <th>pri_fda_industry_code</th>\n",
       "      <th>pri_fda_industry_name</th>\n",
       "      <th>ci_age_at_adverse_event</th>\n",
       "      <th>ci_gender</th>\n",
       "      <th>aec_one_row_outcomes</th>\n",
       "      <th>symptoms_list</th>\n",
       "      <th>outcomes_list</th>\n",
       "    </tr>\n",
       "  </thead>\n",
       "  <tbody>\n",
       "    <tr>\n",
       "      <th>198</th>\n",
       "      <td>65878</td>\n",
       "      <td>1/20/2004</td>\n",
       "      <td>12/30/2003</td>\n",
       "      <td>Suspect</td>\n",
       "      <td>FINEST WALGREEN'S VITAMIN E 400 IU BLEND, USP</td>\n",
       "      <td>54</td>\n",
       "      <td>Vit/Min/Prot/Unconv Diet(Human/Animal)</td>\n",
       "      <td>NaN</td>\n",
       "      <td>Female</td>\n",
       "      <td>NON-SERIOUS INJURIES/ ILLNESS</td>\n",
       "      <td>NAUSEA</td>\n",
       "      <td>NON-SERIOUS INJURIES/ ILLNESS</td>\n",
       "    </tr>\n",
       "    <tr>\n",
       "      <th>201</th>\n",
       "      <td>65881</td>\n",
       "      <td>1/20/2004</td>\n",
       "      <td>NaN</td>\n",
       "      <td>Suspect</td>\n",
       "      <td>COMPIN</td>\n",
       "      <td>54</td>\n",
       "      <td>Vit/Min/Prot/Unconv Diet(Human/Animal)</td>\n",
       "      <td>53.0</td>\n",
       "      <td>Male</td>\n",
       "      <td>HOSPITALIZATION</td>\n",
       "      <td>NAUSEA</td>\n",
       "      <td>HOSPITALIZATION</td>\n",
       "    </tr>\n",
       "    <tr>\n",
       "      <th>328</th>\n",
       "      <td>66178</td>\n",
       "      <td>1/29/2004</td>\n",
       "      <td>12/3/2003</td>\n",
       "      <td>Suspect</td>\n",
       "      <td>FAT SELTZER</td>\n",
       "      <td>54</td>\n",
       "      <td>Vit/Min/Prot/Unconv Diet(Human/Animal)</td>\n",
       "      <td>NaN</td>\n",
       "      <td>Female</td>\n",
       "      <td>NON-SERIOUS INJURIES/ ILLNESS</td>\n",
       "      <td>NAUSEA</td>\n",
       "      <td>NON-SERIOUS INJURIES/ ILLNESS</td>\n",
       "    </tr>\n",
       "    <tr>\n",
       "      <th>417</th>\n",
       "      <td>66527</td>\n",
       "      <td>2/10/2004</td>\n",
       "      <td>12/1/2003</td>\n",
       "      <td>Suspect</td>\n",
       "      <td>ONE A DAY WEIGHT SMART VITAMINS FOR WOMEN</td>\n",
       "      <td>54</td>\n",
       "      <td>Vit/Min/Prot/Unconv Diet(Human/Animal)</td>\n",
       "      <td>38.0</td>\n",
       "      <td>Female</td>\n",
       "      <td>NON-SERIOUS INJURIES/ ILLNESS, VISITED AN ER</td>\n",
       "      <td>NAUSEA</td>\n",
       "      <td>NON-SERIOUS INJURIES/ ILLNESS</td>\n",
       "    </tr>\n",
       "    <tr>\n",
       "      <th>417</th>\n",
       "      <td>66527</td>\n",
       "      <td>2/10/2004</td>\n",
       "      <td>12/1/2003</td>\n",
       "      <td>Suspect</td>\n",
       "      <td>ONE A DAY WEIGHT SMART VITAMINS FOR WOMEN</td>\n",
       "      <td>54</td>\n",
       "      <td>Vit/Min/Prot/Unconv Diet(Human/Animal)</td>\n",
       "      <td>38.0</td>\n",
       "      <td>Female</td>\n",
       "      <td>NON-SERIOUS INJURIES/ ILLNESS, VISITED AN ER</td>\n",
       "      <td>NAUSEA</td>\n",
       "      <td>VISITED AN ER</td>\n",
       "    </tr>\n",
       "    <tr>\n",
       "      <th>520</th>\n",
       "      <td>66817</td>\n",
       "      <td>2/20/2004</td>\n",
       "      <td>2/7/2004</td>\n",
       "      <td>Suspect</td>\n",
       "      <td>REMIFEMIN TABLET (CIMICIFUGA)</td>\n",
       "      <td>54</td>\n",
       "      <td>Vit/Min/Prot/Unconv Diet(Human/Animal)</td>\n",
       "      <td>45.0</td>\n",
       "      <td>Female</td>\n",
       "      <td>VISITED AN ER, SERIOUS INJURIES/ ILLNESS, HOSP...</td>\n",
       "      <td>NAUSEA</td>\n",
       "      <td>VISITED AN ER</td>\n",
       "    </tr>\n",
       "    <tr>\n",
       "      <th>520</th>\n",
       "      <td>66817</td>\n",
       "      <td>2/20/2004</td>\n",
       "      <td>2/7/2004</td>\n",
       "      <td>Suspect</td>\n",
       "      <td>REMIFEMIN TABLET (CIMICIFUGA)</td>\n",
       "      <td>54</td>\n",
       "      <td>Vit/Min/Prot/Unconv Diet(Human/Animal)</td>\n",
       "      <td>45.0</td>\n",
       "      <td>Female</td>\n",
       "      <td>VISITED AN ER, SERIOUS INJURIES/ ILLNESS, HOSP...</td>\n",
       "      <td>NAUSEA</td>\n",
       "      <td>SERIOUS INJURIES/ ILLNESS</td>\n",
       "    </tr>\n",
       "    <tr>\n",
       "      <th>520</th>\n",
       "      <td>66817</td>\n",
       "      <td>2/20/2004</td>\n",
       "      <td>2/7/2004</td>\n",
       "      <td>Suspect</td>\n",
       "      <td>REMIFEMIN TABLET (CIMICIFUGA)</td>\n",
       "      <td>54</td>\n",
       "      <td>Vit/Min/Prot/Unconv Diet(Human/Animal)</td>\n",
       "      <td>45.0</td>\n",
       "      <td>Female</td>\n",
       "      <td>VISITED AN ER, SERIOUS INJURIES/ ILLNESS, HOSP...</td>\n",
       "      <td>NAUSEA</td>\n",
       "      <td>HOSPITALIZATION</td>\n",
       "    </tr>\n",
       "    <tr>\n",
       "      <th>600</th>\n",
       "      <td>67216</td>\n",
       "      <td>3/9/2004</td>\n",
       "      <td>1/3/2003</td>\n",
       "      <td>Suspect</td>\n",
       "      <td>GNC WOMEN'S PRENATAL WITH IRON</td>\n",
       "      <td>54</td>\n",
       "      <td>Vit/Min/Prot/Unconv Diet(Human/Animal)</td>\n",
       "      <td>31.0</td>\n",
       "      <td>Female</td>\n",
       "      <td>NON-SERIOUS INJURIES/ ILLNESS</td>\n",
       "      <td>NAUSEA</td>\n",
       "      <td>NON-SERIOUS INJURIES/ ILLNESS</td>\n",
       "    </tr>\n",
       "    <tr>\n",
       "      <th>713</th>\n",
       "      <td>67573</td>\n",
       "      <td>3/23/2004</td>\n",
       "      <td>2/24/2004</td>\n",
       "      <td>Suspect</td>\n",
       "      <td>TESTOSTAZINE</td>\n",
       "      <td>54</td>\n",
       "      <td>Vit/Min/Prot/Unconv Diet(Human/Animal)</td>\n",
       "      <td>56.0</td>\n",
       "      <td>Male</td>\n",
       "      <td>HOSPITALIZATION, REQ. INTERVENTION TO PRVNT PE...</td>\n",
       "      <td>NAUSEA</td>\n",
       "      <td>HOSPITALIZATION</td>\n",
       "    </tr>\n",
       "  </tbody>\n",
       "</table>\n",
       "</div>"
      ],
      "text/plain": [
       "     ra_report ra_caers_created_date aec_event_start_date pri_product_role  \\\n",
       "198      65878             1/20/2004           12/30/2003          Suspect   \n",
       "201      65881             1/20/2004                  NaN          Suspect   \n",
       "328      66178             1/29/2004            12/3/2003          Suspect   \n",
       "417      66527             2/10/2004            12/1/2003          Suspect   \n",
       "417      66527             2/10/2004            12/1/2003          Suspect   \n",
       "520      66817             2/20/2004             2/7/2004          Suspect   \n",
       "520      66817             2/20/2004             2/7/2004          Suspect   \n",
       "520      66817             2/20/2004             2/7/2004          Suspect   \n",
       "600      67216              3/9/2004             1/3/2003          Suspect   \n",
       "713      67573             3/23/2004            2/24/2004          Suspect   \n",
       "\n",
       "                   pri_reported_brand/product_name  pri_fda_industry_code  \\\n",
       "198  FINEST WALGREEN'S VITAMIN E 400 IU BLEND, USP                     54   \n",
       "201                                         COMPIN                     54   \n",
       "328                                    FAT SELTZER                     54   \n",
       "417      ONE A DAY WEIGHT SMART VITAMINS FOR WOMEN                     54   \n",
       "417      ONE A DAY WEIGHT SMART VITAMINS FOR WOMEN                     54   \n",
       "520                  REMIFEMIN TABLET (CIMICIFUGA)                     54   \n",
       "520                  REMIFEMIN TABLET (CIMICIFUGA)                     54   \n",
       "520                  REMIFEMIN TABLET (CIMICIFUGA)                     54   \n",
       "600                 GNC WOMEN'S PRENATAL WITH IRON                     54   \n",
       "713                                   TESTOSTAZINE                     54   \n",
       "\n",
       "                      pri_fda_industry_name  ci_age_at_adverse_event  \\\n",
       "198  Vit/Min/Prot/Unconv Diet(Human/Animal)                      NaN   \n",
       "201  Vit/Min/Prot/Unconv Diet(Human/Animal)                     53.0   \n",
       "328  Vit/Min/Prot/Unconv Diet(Human/Animal)                      NaN   \n",
       "417  Vit/Min/Prot/Unconv Diet(Human/Animal)                     38.0   \n",
       "417  Vit/Min/Prot/Unconv Diet(Human/Animal)                     38.0   \n",
       "520  Vit/Min/Prot/Unconv Diet(Human/Animal)                     45.0   \n",
       "520  Vit/Min/Prot/Unconv Diet(Human/Animal)                     45.0   \n",
       "520  Vit/Min/Prot/Unconv Diet(Human/Animal)                     45.0   \n",
       "600  Vit/Min/Prot/Unconv Diet(Human/Animal)                     31.0   \n",
       "713  Vit/Min/Prot/Unconv Diet(Human/Animal)                     56.0   \n",
       "\n",
       "    ci_gender                               aec_one_row_outcomes  \\\n",
       "198    Female                      NON-SERIOUS INJURIES/ ILLNESS   \n",
       "201      Male                                    HOSPITALIZATION   \n",
       "328    Female                      NON-SERIOUS INJURIES/ ILLNESS   \n",
       "417    Female       NON-SERIOUS INJURIES/ ILLNESS, VISITED AN ER   \n",
       "417    Female       NON-SERIOUS INJURIES/ ILLNESS, VISITED AN ER   \n",
       "520    Female  VISITED AN ER, SERIOUS INJURIES/ ILLNESS, HOSP...   \n",
       "520    Female  VISITED AN ER, SERIOUS INJURIES/ ILLNESS, HOSP...   \n",
       "520    Female  VISITED AN ER, SERIOUS INJURIES/ ILLNESS, HOSP...   \n",
       "600    Female                      NON-SERIOUS INJURIES/ ILLNESS   \n",
       "713      Male  HOSPITALIZATION, REQ. INTERVENTION TO PRVNT PE...   \n",
       "\n",
       "    symptoms_list                  outcomes_list  \n",
       "198        NAUSEA  NON-SERIOUS INJURIES/ ILLNESS  \n",
       "201        NAUSEA                HOSPITALIZATION  \n",
       "328        NAUSEA  NON-SERIOUS INJURIES/ ILLNESS  \n",
       "417        NAUSEA  NON-SERIOUS INJURIES/ ILLNESS  \n",
       "417        NAUSEA                  VISITED AN ER  \n",
       "520        NAUSEA                  VISITED AN ER  \n",
       "520        NAUSEA      SERIOUS INJURIES/ ILLNESS  \n",
       "520        NAUSEA                HOSPITALIZATION  \n",
       "600        NAUSEA  NON-SERIOUS INJURIES/ ILLNESS  \n",
       "713        NAUSEA                HOSPITALIZATION  "
      ]
     },
     "execution_count": 82,
     "metadata": {},
     "output_type": "execute_result"
    }
   ],
   "source": [
    "outcome_expl[outcome_expl.symptoms_list == 'NAUSEA'].head(10)"
   ]
  },
  {
   "cell_type": "code",
   "execution_count": 83,
   "metadata": {},
   "outputs": [
    {
     "data": {
      "text/plain": [
       "Index(['ra_report', 'ra_caers_created_date', 'aec_event_start_date',\n",
       "       'pri_product_role', 'pri_reported_brand/product_name',\n",
       "       'pri_fda_industry_code', 'pri_fda_industry_name',\n",
       "       'ci_age_at_adverse_event', 'ci_gender', 'aec_one_row_outcomes',\n",
       "       'symptoms_list', 'outcomes_list'],\n",
       "      dtype='object')"
      ]
     },
     "execution_count": 83,
     "metadata": {},
     "output_type": "execute_result"
    }
   ],
   "source": [
    "outcome_expl.columns"
   ]
  },
  {
   "cell_type": "code",
   "execution_count": 84,
   "metadata": {},
   "outputs": [],
   "source": [
    "outcome_expl.drop(columns=['aec_one_row_outcomes'],inplace=True)"
   ]
  },
  {
   "cell_type": "code",
   "execution_count": 85,
   "metadata": {},
   "outputs": [
    {
     "data": {
      "text/plain": [
       "OTHER SERIOUS (IMPORTANT MEDICAL EVENTS)     108916\n",
       "HOSPITALIZATION                               70811\n",
       "VISITED A HEALTH CARE PROVIDER                53402\n",
       "VISITED AN ER                                 46870\n",
       "LIFE THREATENING                              17986\n",
       "SERIOUS INJURIES/ ILLNESS                     14359\n",
       "NON-SERIOUS INJURIES/ ILLNESS                 12000\n",
       "DISABILITY                                     9977\n",
       "REQ. INTERVENTION TO PRVNT PERM. IMPRMNT.      9169\n",
       "DEATH                                          3099\n",
       "CONGENITAL ANOMALY                              117\n",
       "NONE                                             48\n",
       "Name: outcomes_list, dtype: int64"
      ]
     },
     "execution_count": 85,
     "metadata": {},
     "output_type": "execute_result"
    }
   ],
   "source": [
    "outcome_expl.outcomes_list.value_counts()"
   ]
  },
  {
   "cell_type": "code",
   "execution_count": 87,
   "metadata": {},
   "outputs": [
    {
     "name": "stderr",
     "output_type": "stream",
     "text": [
      "c:\\users\\mital\\appdata\\local\\programs\\python\\python36\\lib\\site-packages\\scipy\\stats\\stats.py:1706: FutureWarning: Using a non-tuple sequence for multidimensional indexing is deprecated; use `arr[tuple(seq)]` instead of `arr[seq]`. In the future this will be interpreted as an array index, `arr[np.array(seq)]`, which will result either in an error or a different result.\n",
      "  return np.add.reduce(sorted[indexer] * weights, axis=axis) / sumval\n"
     ]
    },
    {
     "data": {
      "text/plain": [
       "[Text(0,0,'VISITED A HEALTH CARE PROVIDER'),\n",
       " Text(0,0,'REQ. INTERVENTION TO PRVNT PERM. IMPRMNT.'),\n",
       " Text(0,0,'DEATH'),\n",
       " Text(0,0,'LIFE THREATENING'),\n",
       " Text(0,0,'HOSPITALIZATION'),\n",
       " Text(0,0,'NON-SERIOUS INJURIES/ ILLNESS'),\n",
       " Text(0,0,'DISABILITY'),\n",
       " Text(0,0,'VISITED AN ER'),\n",
       " Text(0,0,'SERIOUS INJURIES/ ILLNESS'),\n",
       " Text(0,0,'CONGENITAL ANOMALY'),\n",
       " Text(0,0,'OTHER SERIOUS (IMPORTANT MEDICAL EVENTS)'),\n",
       " Text(0,0,'NONE')]"
      ]
     },
     "execution_count": 87,
     "metadata": {},
     "output_type": "execute_result"
    },
    {
     "data": {
      "image/png": "[encoded data removed]",
      "text/plain": [
       "<matplotlib.figure.Figure at 0x2241a5e9048>"
      ]
     },
     "metadata": {},
     "output_type": "display_data"
    }
   ],
   "source": [
    "plt.figure(figsize=(10,10))\n",
    "ax = sns.barplot(x='outcomes_list', y='ra_report', data=outcome_expl, estimator=lambda x: len(x))\n",
    "ax.set_xticklabels(ax.get_xticklabels(),rotation = 30, ha='right')"
   ]
  },
  {
   "cell_type": "code",
   "execution_count": null,
   "metadata": {},
   "outputs": [],
   "source": []
  }
 ],
 "metadata": {
  "kernelspec": {
   "display_name": "Python 3",
   "language": "python",
   "name": "python3"
  },
  "language_info": {
   "codemirror_mode": {
    "name": "ipython",
    "version": 3
   },
   "file_extension": ".py",
   "mimetype": "text/x-python",
   "name": "python",
   "nbconvert_exporter": "python",
   "pygments_lexer": "ipython3",
   "version": "3.6.4"
  }
 },
 "nbformat": 4,
 "nbformat_minor": 2
}
